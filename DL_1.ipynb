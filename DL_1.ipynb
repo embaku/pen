{
  "nbformat": 4,
  "nbformat_minor": 0,
  "metadata": {
    "colab": {
      "provenance": []
    },
    "kernelspec": {
      "name": "python3",
      "display_name": "Python 3"
    }
  },
  "cells": [
    {
      "cell_type": "code",
      "metadata": {
        "id": "ID2HFD15RtAm"
      },
      "source": [
        "import numpy as np\n",
        "import pandas as pd\n",
        "from sklearn.linear_model import LinearRegression\n",
        "from tensorflow.keras.models import Sequential\n",
        "from tensorflow.keras.layers import Dense\n",
        "from sklearn.model_selection import train_test_split\n"
      ],
      "execution_count": 31,
      "outputs": []
    },
    {
      "cell_type": "code",
      "metadata": {
        "id": "dk-QNjY1RzO-",
        "colab": {
          "base_uri": "https://localhost:8080/",
          "height": 206
        },
        "outputId": "d2008bd0-98ab-4e76-bddc-66bbe7d067a0"
      },
      "source": [
        "# Load the Boston House price prediction dataset\n",
        "df = pd.read_csv('/Boston.csv')\n",
        "\n",
        "df.head()\n",
        "\n"
      ],
      "execution_count": 32,
      "outputs": [
        {
          "output_type": "execute_result",
          "data": {
            "text/plain": [
              "   Unnamed: 0     crim    zn  indus  chas    nox     rm   age     dis  rad  \\\n",
              "0           1  0.00632  18.0   2.31     0  0.538  6.575  65.2  4.0900    1   \n",
              "1           2  0.02731   0.0   7.07     0  0.469  6.421  78.9  4.9671    2   \n",
              "2           3  0.02729   0.0   7.07     0  0.469  7.185  61.1  4.9671    2   \n",
              "3           4  0.03237   0.0   2.18     0  0.458  6.998  45.8  6.0622    3   \n",
              "4           5  0.06905   0.0   2.18     0  0.458  7.147  54.2  6.0622    3   \n",
              "\n",
              "   tax  ptratio   black  lstat  medv  \n",
              "0  296     15.3  396.90   4.98  24.0  \n",
              "1  242     17.8  396.90   9.14  21.6  \n",
              "2  242     17.8  392.83   4.03  34.7  \n",
              "3  222     18.7  394.63   2.94  33.4  \n",
              "4  222     18.7  396.90   5.33  36.2  "
            ],
            "text/html": [
              "\n",
              "  <div id=\"df-915753af-5014-492d-a74b-4f93ed414940\">\n",
              "    <div class=\"colab-df-container\">\n",
              "      <div>\n",
              "<style scoped>\n",
              "    .dataframe tbody tr th:only-of-type {\n",
              "        vertical-align: middle;\n",
              "    }\n",
              "\n",
              "    .dataframe tbody tr th {\n",
              "        vertical-align: top;\n",
              "    }\n",
              "\n",
              "    .dataframe thead th {\n",
              "        text-align: right;\n",
              "    }\n",
              "</style>\n",
              "<table border=\"1\" class=\"dataframe\">\n",
              "  <thead>\n",
              "    <tr style=\"text-align: right;\">\n",
              "      <th></th>\n",
              "      <th>Unnamed: 0</th>\n",
              "      <th>crim</th>\n",
              "      <th>zn</th>\n",
              "      <th>indus</th>\n",
              "      <th>chas</th>\n",
              "      <th>nox</th>\n",
              "      <th>rm</th>\n",
              "      <th>age</th>\n",
              "      <th>dis</th>\n",
              "      <th>rad</th>\n",
              "      <th>tax</th>\n",
              "      <th>ptratio</th>\n",
              "      <th>black</th>\n",
              "      <th>lstat</th>\n",
              "      <th>medv</th>\n",
              "    </tr>\n",
              "  </thead>\n",
              "  <tbody>\n",
              "    <tr>\n",
              "      <th>0</th>\n",
              "      <td>1</td>\n",
              "      <td>0.00632</td>\n",
              "      <td>18.0</td>\n",
              "      <td>2.31</td>\n",
              "      <td>0</td>\n",
              "      <td>0.538</td>\n",
              "      <td>6.575</td>\n",
              "      <td>65.2</td>\n",
              "      <td>4.0900</td>\n",
              "      <td>1</td>\n",
              "      <td>296</td>\n",
              "      <td>15.3</td>\n",
              "      <td>396.90</td>\n",
              "      <td>4.98</td>\n",
              "      <td>24.0</td>\n",
              "    </tr>\n",
              "    <tr>\n",
              "      <th>1</th>\n",
              "      <td>2</td>\n",
              "      <td>0.02731</td>\n",
              "      <td>0.0</td>\n",
              "      <td>7.07</td>\n",
              "      <td>0</td>\n",
              "      <td>0.469</td>\n",
              "      <td>6.421</td>\n",
              "      <td>78.9</td>\n",
              "      <td>4.9671</td>\n",
              "      <td>2</td>\n",
              "      <td>242</td>\n",
              "      <td>17.8</td>\n",
              "      <td>396.90</td>\n",
              "      <td>9.14</td>\n",
              "      <td>21.6</td>\n",
              "    </tr>\n",
              "    <tr>\n",
              "      <th>2</th>\n",
              "      <td>3</td>\n",
              "      <td>0.02729</td>\n",
              "      <td>0.0</td>\n",
              "      <td>7.07</td>\n",
              "      <td>0</td>\n",
              "      <td>0.469</td>\n",
              "      <td>7.185</td>\n",
              "      <td>61.1</td>\n",
              "      <td>4.9671</td>\n",
              "      <td>2</td>\n",
              "      <td>242</td>\n",
              "      <td>17.8</td>\n",
              "      <td>392.83</td>\n",
              "      <td>4.03</td>\n",
              "      <td>34.7</td>\n",
              "    </tr>\n",
              "    <tr>\n",
              "      <th>3</th>\n",
              "      <td>4</td>\n",
              "      <td>0.03237</td>\n",
              "      <td>0.0</td>\n",
              "      <td>2.18</td>\n",
              "      <td>0</td>\n",
              "      <td>0.458</td>\n",
              "      <td>6.998</td>\n",
              "      <td>45.8</td>\n",
              "      <td>6.0622</td>\n",
              "      <td>3</td>\n",
              "      <td>222</td>\n",
              "      <td>18.7</td>\n",
              "      <td>394.63</td>\n",
              "      <td>2.94</td>\n",
              "      <td>33.4</td>\n",
              "    </tr>\n",
              "    <tr>\n",
              "      <th>4</th>\n",
              "      <td>5</td>\n",
              "      <td>0.06905</td>\n",
              "      <td>0.0</td>\n",
              "      <td>2.18</td>\n",
              "      <td>0</td>\n",
              "      <td>0.458</td>\n",
              "      <td>7.147</td>\n",
              "      <td>54.2</td>\n",
              "      <td>6.0622</td>\n",
              "      <td>3</td>\n",
              "      <td>222</td>\n",
              "      <td>18.7</td>\n",
              "      <td>396.90</td>\n",
              "      <td>5.33</td>\n",
              "      <td>36.2</td>\n",
              "    </tr>\n",
              "  </tbody>\n",
              "</table>\n",
              "</div>\n",
              "      <button class=\"colab-df-convert\" onclick=\"convertToInteractive('df-915753af-5014-492d-a74b-4f93ed414940')\"\n",
              "              title=\"Convert this dataframe to an interactive table.\"\n",
              "              style=\"display:none;\">\n",
              "        \n",
              "  <svg xmlns=\"http://www.w3.org/2000/svg\" height=\"24px\"viewBox=\"0 0 24 24\"\n",
              "       width=\"24px\">\n",
              "    <path d=\"M0 0h24v24H0V0z\" fill=\"none\"/>\n",
              "    <path d=\"M18.56 5.44l.94 2.06.94-2.06 2.06-.94-2.06-.94-.94-2.06-.94 2.06-2.06.94zm-11 1L8.5 8.5l.94-2.06 2.06-.94-2.06-.94L8.5 2.5l-.94 2.06-2.06.94zm10 10l.94 2.06.94-2.06 2.06-.94-2.06-.94-.94-2.06-.94 2.06-2.06.94z\"/><path d=\"M17.41 7.96l-1.37-1.37c-.4-.4-.92-.59-1.43-.59-.52 0-1.04.2-1.43.59L10.3 9.45l-7.72 7.72c-.78.78-.78 2.05 0 2.83L4 21.41c.39.39.9.59 1.41.59.51 0 1.02-.2 1.41-.59l7.78-7.78 2.81-2.81c.8-.78.8-2.07 0-2.86zM5.41 20L4 18.59l7.72-7.72 1.47 1.35L5.41 20z\"/>\n",
              "  </svg>\n",
              "      </button>\n",
              "      \n",
              "  <style>\n",
              "    .colab-df-container {\n",
              "      display:flex;\n",
              "      flex-wrap:wrap;\n",
              "      gap: 12px;\n",
              "    }\n",
              "\n",
              "    .colab-df-convert {\n",
              "      background-color: #E8F0FE;\n",
              "      border: none;\n",
              "      border-radius: 50%;\n",
              "      cursor: pointer;\n",
              "      display: none;\n",
              "      fill: #1967D2;\n",
              "      height: 32px;\n",
              "      padding: 0 0 0 0;\n",
              "      width: 32px;\n",
              "    }\n",
              "\n",
              "    .colab-df-convert:hover {\n",
              "      background-color: #E2EBFA;\n",
              "      box-shadow: 0px 1px 2px rgba(60, 64, 67, 0.3), 0px 1px 3px 1px rgba(60, 64, 67, 0.15);\n",
              "      fill: #174EA6;\n",
              "    }\n",
              "\n",
              "    [theme=dark] .colab-df-convert {\n",
              "      background-color: #3B4455;\n",
              "      fill: #D2E3FC;\n",
              "    }\n",
              "\n",
              "    [theme=dark] .colab-df-convert:hover {\n",
              "      background-color: #434B5C;\n",
              "      box-shadow: 0px 1px 3px 1px rgba(0, 0, 0, 0.15);\n",
              "      filter: drop-shadow(0px 1px 2px rgba(0, 0, 0, 0.3));\n",
              "      fill: #FFFFFF;\n",
              "    }\n",
              "  </style>\n",
              "\n",
              "      <script>\n",
              "        const buttonEl =\n",
              "          document.querySelector('#df-915753af-5014-492d-a74b-4f93ed414940 button.colab-df-convert');\n",
              "        buttonEl.style.display =\n",
              "          google.colab.kernel.accessAllowed ? 'block' : 'none';\n",
              "\n",
              "        async function convertToInteractive(key) {\n",
              "          const element = document.querySelector('#df-915753af-5014-492d-a74b-4f93ed414940');\n",
              "          const dataTable =\n",
              "            await google.colab.kernel.invokeFunction('convertToInteractive',\n",
              "                                                     [key], {});\n",
              "          if (!dataTable) return;\n",
              "\n",
              "          const docLinkHtml = 'Like what you see? Visit the ' +\n",
              "            '<a target=\"_blank\" href=https://colab.research.google.com/notebooks/data_table.ipynb>data table notebook</a>'\n",
              "            + ' to learn more about interactive tables.';\n",
              "          element.innerHTML = '';\n",
              "          dataTable['output_type'] = 'display_data';\n",
              "          await google.colab.output.renderOutput(dataTable, element);\n",
              "          const docLink = document.createElement('div');\n",
              "          docLink.innerHTML = docLinkHtml;\n",
              "          element.appendChild(docLink);\n",
              "        }\n",
              "      </script>\n",
              "    </div>\n",
              "  </div>\n",
              "  "
            ]
          },
          "metadata": {},
          "execution_count": 32
        }
      ]
    },
    {
      "cell_type": "code",
      "source": [
        "#Preprocess the dataset\n",
        "\n",
        "from sklearn.preprocessing import StandardScaler\n",
        "\n",
        "X= df.drop('medv',axis = 1)\n",
        "y = df['medv']\n",
        "\n",
        "print(X[:5])\n",
        "print(X)"
      ],
      "metadata": {
        "colab": {
          "base_uri": "https://localhost:8080/"
        },
        "id": "UWEdZD95bTTE",
        "outputId": "b117b1e9-7e59-4cfe-b98b-03fe48cbf8e1"
      },
      "execution_count": 33,
      "outputs": [
        {
          "output_type": "stream",
          "name": "stdout",
          "text": [
            "   Unnamed: 0     crim    zn  indus  chas    nox     rm   age     dis  rad  \\\n",
            "0           1  0.00632  18.0   2.31     0  0.538  6.575  65.2  4.0900    1   \n",
            "1           2  0.02731   0.0   7.07     0  0.469  6.421  78.9  4.9671    2   \n",
            "2           3  0.02729   0.0   7.07     0  0.469  7.185  61.1  4.9671    2   \n",
            "3           4  0.03237   0.0   2.18     0  0.458  6.998  45.8  6.0622    3   \n",
            "4           5  0.06905   0.0   2.18     0  0.458  7.147  54.2  6.0622    3   \n",
            "\n",
            "   tax  ptratio   black  lstat  \n",
            "0  296     15.3  396.90   4.98  \n",
            "1  242     17.8  396.90   9.14  \n",
            "2  242     17.8  392.83   4.03  \n",
            "3  222     18.7  394.63   2.94  \n",
            "4  222     18.7  396.90   5.33  \n",
            "     Unnamed: 0     crim    zn  indus  chas    nox     rm   age     dis  rad  \\\n",
            "0             1  0.00632  18.0   2.31     0  0.538  6.575  65.2  4.0900    1   \n",
            "1             2  0.02731   0.0   7.07     0  0.469  6.421  78.9  4.9671    2   \n",
            "2             3  0.02729   0.0   7.07     0  0.469  7.185  61.1  4.9671    2   \n",
            "3             4  0.03237   0.0   2.18     0  0.458  6.998  45.8  6.0622    3   \n",
            "4             5  0.06905   0.0   2.18     0  0.458  7.147  54.2  6.0622    3   \n",
            "..          ...      ...   ...    ...   ...    ...    ...   ...     ...  ...   \n",
            "501         502  0.06263   0.0  11.93     0  0.573  6.593  69.1  2.4786    1   \n",
            "502         503  0.04527   0.0  11.93     0  0.573  6.120  76.7  2.2875    1   \n",
            "503         504  0.06076   0.0  11.93     0  0.573  6.976  91.0  2.1675    1   \n",
            "504         505  0.10959   0.0  11.93     0  0.573  6.794  89.3  2.3889    1   \n",
            "505         506  0.04741   0.0  11.93     0  0.573  6.030  80.8  2.5050    1   \n",
            "\n",
            "     tax  ptratio   black  lstat  \n",
            "0    296     15.3  396.90   4.98  \n",
            "1    242     17.8  396.90   9.14  \n",
            "2    242     17.8  392.83   4.03  \n",
            "3    222     18.7  394.63   2.94  \n",
            "4    222     18.7  396.90   5.33  \n",
            "..   ...      ...     ...    ...  \n",
            "501  273     21.0  391.99   9.67  \n",
            "502  273     21.0  396.90   9.08  \n",
            "503  273     21.0  396.90   5.64  \n",
            "504  273     21.0  393.45   6.48  \n",
            "505  273     21.0  396.90   7.88  \n",
            "\n",
            "[506 rows x 14 columns]\n"
          ]
        }
      ]
    },
    {
      "cell_type": "code",
      "source": [
        "#Split the dataset\n",
        " \n",
        "from sklearn.model_selection import train_test_split\n",
        "\n",
        "X_train, X_test, y_train, y_test= train_test_split(X,y,test_size=0.3, random_state = 42)\n",
        "print('training set shape:',X_train.shape,y_train.shape)\n",
        "print('testing set shape:',X_test.shape,y_test.shape)"
      ],
      "metadata": {
        "colab": {
          "base_uri": "https://localhost:8080/"
        },
        "id": "QIXOsYUlbWRE",
        "outputId": "3d952c9e-5133-4a0c-ee90-6822b530f326"
      },
      "execution_count": 34,
      "outputs": [
        {
          "output_type": "stream",
          "name": "stdout",
          "text": [
            "training set shape: (354, 14) (354,)\n",
            "testing set shape: (152, 14) (152,)\n"
          ]
        }
      ]
    },
    {
      "cell_type": "code",
      "source": [
        "from keras.models import Sequential\n",
        "from keras.layers import Dense, Dropout\n"
      ],
      "metadata": {
        "id": "a-W73qWNbb2h"
      },
      "execution_count": 35,
      "outputs": []
    },
    {
      "cell_type": "code",
      "source": [
        "model = Sequential()\n",
        "model.add(Dense(64, input_dim=14, activation='relu'))\n",
        "model.add(Dropout(0.2))\n",
        "model.add(Dense(32, activation='relu'))\n",
        "model.add(Dense(1))\n",
        "\n",
        "print(model.summary())"
      ],
      "metadata": {
        "colab": {
          "base_uri": "https://localhost:8080/"
        },
        "id": "87tuhUN3bgQQ",
        "outputId": "588b72e4-2eee-4494-96f0-995bbe1634ed"
      },
      "execution_count": 36,
      "outputs": [
        {
          "output_type": "stream",
          "name": "stdout",
          "text": [
            "Model: \"sequential_2\"\n",
            "_________________________________________________________________\n",
            " Layer (type)                Output Shape              Param #   \n",
            "=================================================================\n",
            " dense_6 (Dense)             (None, 64)                960       \n",
            "                                                                 \n",
            " dropout_2 (Dropout)         (None, 64)                0         \n",
            "                                                                 \n",
            " dense_7 (Dense)             (None, 32)                2080      \n",
            "                                                                 \n",
            " dense_8 (Dense)             (None, 1)                 33        \n",
            "                                                                 \n",
            "=================================================================\n",
            "Total params: 3,073\n",
            "Trainable params: 3,073\n",
            "Non-trainable params: 0\n",
            "_________________________________________________________________\n",
            "None\n"
          ]
        }
      ]
    },
    {
      "cell_type": "code",
      "source": [
        "model.compile(loss='mean_squared_error', optimizer='adam', metrics=['mean_absolute_error'])"
      ],
      "metadata": {
        "id": "4i_OkpUrb2sq"
      },
      "execution_count": 37,
      "outputs": []
    },
    {
      "cell_type": "code",
      "source": [
        "from keras.callbacks import EarlyStopping\n"
      ],
      "metadata": {
        "id": "QnVvrW_4b6T8"
      },
      "execution_count": 38,
      "outputs": []
    },
    {
      "cell_type": "code",
      "source": [
        "early_stopping = EarlyStopping(monitor='val_loss', patience=5)"
      ],
      "metadata": {
        "id": "qddCGnBUb8F6"
      },
      "execution_count": 39,
      "outputs": []
    },
    {
      "cell_type": "code",
      "source": [
        "history = model.fit(X_train, y_train, validation_split=0.2, epochs=100, batch_size=32,callbacks=[early_stopping])\n"
      ],
      "metadata": {
        "colab": {
          "base_uri": "https://localhost:8080/"
        },
        "id": "DuieF1dCb-Jv",
        "outputId": "75f092c1-011d-47cb-d127-f8927ec6aaf2"
      },
      "execution_count": 40,
      "outputs": [
        {
          "output_type": "stream",
          "name": "stdout",
          "text": [
            "Epoch 1/100\n",
            "9/9 [==============================] - 1s 26ms/step - loss: 2075.5862 - mean_absolute_error: 37.2482 - val_loss: 585.7352 - val_mean_absolute_error: 19.3621\n",
            "Epoch 2/100\n",
            "9/9 [==============================] - 0s 7ms/step - loss: 873.5454 - mean_absolute_error: 24.1906 - val_loss: 383.3377 - val_mean_absolute_error: 16.2516\n",
            "Epoch 3/100\n",
            "9/9 [==============================] - 0s 8ms/step - loss: 694.2837 - mean_absolute_error: 20.1006 - val_loss: 136.4024 - val_mean_absolute_error: 8.0978\n",
            "Epoch 4/100\n",
            "9/9 [==============================] - 0s 6ms/step - loss: 537.2086 - mean_absolute_error: 17.8506 - val_loss: 123.9182 - val_mean_absolute_error: 8.1873\n",
            "Epoch 5/100\n",
            "9/9 [==============================] - 0s 8ms/step - loss: 385.5305 - mean_absolute_error: 15.3246 - val_loss: 149.3367 - val_mean_absolute_error: 9.8466\n",
            "Epoch 6/100\n",
            "9/9 [==============================] - 0s 8ms/step - loss: 310.1570 - mean_absolute_error: 13.3699 - val_loss: 106.4696 - val_mean_absolute_error: 7.6352\n",
            "Epoch 7/100\n",
            "9/9 [==============================] - 0s 6ms/step - loss: 231.3656 - mean_absolute_error: 11.8781 - val_loss: 99.6243 - val_mean_absolute_error: 7.5385\n",
            "Epoch 8/100\n",
            "9/9 [==============================] - 0s 8ms/step - loss: 243.4203 - mean_absolute_error: 12.5275 - val_loss: 122.9355 - val_mean_absolute_error: 9.1917\n",
            "Epoch 9/100\n",
            "9/9 [==============================] - 0s 8ms/step - loss: 223.3252 - mean_absolute_error: 11.4667 - val_loss: 86.4546 - val_mean_absolute_error: 6.7044\n",
            "Epoch 10/100\n",
            "9/9 [==============================] - 0s 9ms/step - loss: 170.9569 - mean_absolute_error: 10.5377 - val_loss: 83.9556 - val_mean_absolute_error: 6.6338\n",
            "Epoch 11/100\n",
            "9/9 [==============================] - 0s 7ms/step - loss: 189.4631 - mean_absolute_error: 10.6814 - val_loss: 82.5600 - val_mean_absolute_error: 6.8626\n",
            "Epoch 12/100\n",
            "9/9 [==============================] - 0s 6ms/step - loss: 188.7477 - mean_absolute_error: 10.4759 - val_loss: 75.9653 - val_mean_absolute_error: 6.4795\n",
            "Epoch 13/100\n",
            "9/9 [==============================] - 0s 8ms/step - loss: 172.0808 - mean_absolute_error: 9.8314 - val_loss: 73.1807 - val_mean_absolute_error: 6.2557\n",
            "Epoch 14/100\n",
            "9/9 [==============================] - 0s 7ms/step - loss: 165.2539 - mean_absolute_error: 9.7149 - val_loss: 81.6844 - val_mean_absolute_error: 7.1288\n",
            "Epoch 15/100\n",
            "9/9 [==============================] - 0s 6ms/step - loss: 162.9916 - mean_absolute_error: 9.8534 - val_loss: 71.9262 - val_mean_absolute_error: 6.0004\n",
            "Epoch 16/100\n",
            "9/9 [==============================] - 0s 8ms/step - loss: 161.9524 - mean_absolute_error: 9.7013 - val_loss: 72.5666 - val_mean_absolute_error: 6.0010\n",
            "Epoch 17/100\n",
            "9/9 [==============================] - 0s 8ms/step - loss: 135.2672 - mean_absolute_error: 9.0721 - val_loss: 73.9677 - val_mean_absolute_error: 6.6578\n",
            "Epoch 18/100\n",
            "9/9 [==============================] - 0s 8ms/step - loss: 129.5736 - mean_absolute_error: 8.8692 - val_loss: 67.3173 - val_mean_absolute_error: 5.7944\n",
            "Epoch 19/100\n",
            "9/9 [==============================] - 0s 8ms/step - loss: 108.7844 - mean_absolute_error: 8.0405 - val_loss: 66.4210 - val_mean_absolute_error: 6.0061\n",
            "Epoch 20/100\n",
            "9/9 [==============================] - 0s 6ms/step - loss: 124.1140 - mean_absolute_error: 8.2316 - val_loss: 66.4533 - val_mean_absolute_error: 6.1060\n",
            "Epoch 21/100\n",
            "9/9 [==============================] - 0s 6ms/step - loss: 143.1895 - mean_absolute_error: 9.2789 - val_loss: 64.1655 - val_mean_absolute_error: 5.6746\n",
            "Epoch 22/100\n",
            "9/9 [==============================] - 0s 6ms/step - loss: 136.6080 - mean_absolute_error: 8.9469 - val_loss: 62.3652 - val_mean_absolute_error: 5.5751\n",
            "Epoch 23/100\n",
            "9/9 [==============================] - 0s 6ms/step - loss: 127.0645 - mean_absolute_error: 8.5657 - val_loss: 61.5057 - val_mean_absolute_error: 5.6488\n",
            "Epoch 24/100\n",
            "9/9 [==============================] - 0s 7ms/step - loss: 114.4468 - mean_absolute_error: 7.9425 - val_loss: 61.1684 - val_mean_absolute_error: 5.6758\n",
            "Epoch 25/100\n",
            "9/9 [==============================] - 0s 7ms/step - loss: 119.2566 - mean_absolute_error: 8.1690 - val_loss: 60.6987 - val_mean_absolute_error: 5.4661\n",
            "Epoch 26/100\n",
            "9/9 [==============================] - 0s 8ms/step - loss: 107.4219 - mean_absolute_error: 8.1564 - val_loss: 58.8896 - val_mean_absolute_error: 5.4989\n",
            "Epoch 27/100\n",
            "9/9 [==============================] - 0s 6ms/step - loss: 108.0157 - mean_absolute_error: 8.1048 - val_loss: 59.2155 - val_mean_absolute_error: 5.2808\n",
            "Epoch 28/100\n",
            "9/9 [==============================] - 0s 6ms/step - loss: 99.7082 - mean_absolute_error: 7.6665 - val_loss: 60.0092 - val_mean_absolute_error: 5.6623\n",
            "Epoch 29/100\n",
            "9/9 [==============================] - 0s 6ms/step - loss: 92.0814 - mean_absolute_error: 7.6556 - val_loss: 59.6147 - val_mean_absolute_error: 5.1927\n",
            "Epoch 30/100\n",
            "9/9 [==============================] - 0s 6ms/step - loss: 106.7342 - mean_absolute_error: 7.8226 - val_loss: 58.7854 - val_mean_absolute_error: 5.4327\n",
            "Epoch 31/100\n",
            "9/9 [==============================] - 0s 6ms/step - loss: 107.9071 - mean_absolute_error: 8.0282 - val_loss: 59.6546 - val_mean_absolute_error: 5.2708\n",
            "Epoch 32/100\n",
            "9/9 [==============================] - 0s 6ms/step - loss: 100.4540 - mean_absolute_error: 7.5621 - val_loss: 60.6651 - val_mean_absolute_error: 5.4008\n",
            "Epoch 33/100\n",
            "9/9 [==============================] - 0s 6ms/step - loss: 101.1424 - mean_absolute_error: 7.6818 - val_loss: 59.6388 - val_mean_absolute_error: 5.4413\n",
            "Epoch 34/100\n",
            "9/9 [==============================] - 0s 6ms/step - loss: 108.9889 - mean_absolute_error: 7.5876 - val_loss: 60.7840 - val_mean_absolute_error: 5.3851\n",
            "Epoch 35/100\n",
            "9/9 [==============================] - 0s 6ms/step - loss: 90.7050 - mean_absolute_error: 7.4187 - val_loss: 58.8653 - val_mean_absolute_error: 5.2739\n"
          ]
        }
      ]
    },
    {
      "cell_type": "code",
      "source": [
        "import matplotlib.pyplot as plt \n",
        "plt.plot(history.history['loss'])\n",
        "plt.plot(history.history['val_loss']) \n",
        "plt.title('Model Loss')\n",
        "plt.xlabel('Epochs')\n",
        "plt.ylabel('Loss') \n",
        "plt.legend(['Training','Validation']) \n",
        "plt.show()"
      ],
      "metadata": {
        "colab": {
          "base_uri": "https://localhost:8080/",
          "height": 472
        },
        "id": "U84heMwncAgF",
        "outputId": "539eab77-7fa3-46e8-b19b-4ee0ee890c20"
      },
      "execution_count": 41,
      "outputs": [
        {
          "output_type": "display_data",
          "data": {
            "text/plain": [
              "<Figure size 640x480 with 1 Axes>"
            ],
            "image/png": "[encoded data removed]"
          },
          "metadata": {}
        }
      ]
    },
    {
      "cell_type": "code",
      "source": [
        "loss, mae = model.evaluate(X_test, y_test)\n",
        "print('Mean Absolute Error:', mae)\n"
      ],
      "metadata": {
        "colab": {
          "base_uri": "https://localhost:8080/"
        },
        "id": "P9tRt4j-cjrS",
        "outputId": "c298ae8c-a4d3-49f3-a038-a43ae88ce7ec"
      },
      "execution_count": 42,
      "outputs": [
        {
          "output_type": "stream",
          "name": "stdout",
          "text": [
            "5/5 [==============================] - 0s 4ms/step - loss: 42.8898 - mean_absolute_error: 4.8930\n",
            "Mean Absolute Error: 4.892993927001953\n"
          ]
        }
      ]
    },
    {
      "cell_type": "code",
      "source": [
        "accuracy = model.evaluate(X_test,y_test)\n",
        "print(accuracy)\n"
      ],
      "metadata": {
        "id": "8PwLgnXGQDBv",
        "outputId": "25a1a5cc-3903-4350-b596-e14bbeab37f0",
        "colab": {
          "base_uri": "https://localhost:8080/"
        }
      },
      "execution_count": 43,
      "outputs": [
        {
          "output_type": "stream",
          "name": "stdout",
          "text": [
            "5/5 [==============================] - 0s 2ms/step - loss: 42.8898 - mean_absolute_error: 4.8930\n",
            "[42.88978958129883, 4.892993927001953]\n"
          ]
        }
      ]
    }
  ]
}