{
  "nbformat": 4,
  "nbformat_minor": 0,
  "metadata": {
    "colab": {
      "provenance": []
    },
    "kernelspec": {
      "name": "python3",
      "display_name": "Python 3"
    }
  },
  "cells": [
    {
      "cell_type": "code",
      "metadata": {
        "id": "ID2HFD15RtAm"
      },
      "source": [
        "import numpy as np\n",
        "import pandas as pd\n",
        "from sklearn.linear_model import LinearRegression\n",
        "from tensorflow.keras.models import Sequential\n",
        "from tensorflow.keras.layers import Dense\n",
        "from sklearn.model_selection import train_test_split\n"
      ],
      "execution_count": 17,
      "outputs": []
    },
    {
      "cell_type": "code",
      "metadata": {
        "id": "dk-QNjY1RzO-",
        "colab": {
          "base_uri": "https://localhost:8080/",
          "height": 206
        },
        "outputId": "0d841c90-1d63-43a4-ede2-65be50df3ab2"
      },
      "source": [
        "# Load the Boston House price prediction dataset\n",
        "df = pd.read_csv('/Boston.csv')\n",
        "\n",
        "df.head()\n",
        "\n"
      ],
      "execution_count": 18,
      "outputs": [
        {
          "output_type": "execute_result",
          "data": {
            "text/plain": [
              "   Unnamed: 0     crim    zn  indus  chas    nox     rm   age     dis  rad  \\\n",
              "0           1  0.00632  18.0   2.31     0  0.538  6.575  65.2  4.0900    1   \n",
              "1           2  0.02731   0.0   7.07     0  0.469  6.421  78.9  4.9671    2   \n",
              "2           3  0.02729   0.0   7.07     0  0.469  7.185  61.1  4.9671    2   \n",
              "3           4  0.03237   0.0   2.18     0  0.458  6.998  45.8  6.0622    3   \n",
              "4           5  0.06905   0.0   2.18     0  0.458  7.147  54.2  6.0622    3   \n",
              "\n",
              "   tax  ptratio   black  lstat  medv  \n",
              "0  296     15.3  396.90   4.98  24.0  \n",
              "1  242     17.8  396.90   9.14  21.6  \n",
              "2  242     17.8  392.83   4.03  34.7  \n",
              "3  222     18.7  394.63   2.94  33.4  \n",
              "4  222     18.7  396.90   5.33  36.2  "
            ],
            "text/html": [
              "\n",
              "  <div id=\"df-b50de412-0af9-4bab-bd55-00728b5447bc\">\n",
              "    <div class=\"colab-df-container\">\n",
              "      <div>\n",
              "<style scoped>\n",
              "    .dataframe tbody tr th:only-of-type {\n",
              "        vertical-align: middle;\n",
              "    }\n",
              "\n",
              "    .dataframe tbody tr th {\n",
              "        vertical-align: top;\n",
              "    }\n",
              "\n",
              "    .dataframe thead th {\n",
              "        text-align: right;\n",
              "    }\n",
              "</style>\n",
              "<table border=\"1\" class=\"dataframe\">\n",
              "  <thead>\n",
              "    <tr style=\"text-align: right;\">\n",
              "      <th></th>\n",
              "      <th>Unnamed: 0</th>\n",
              "      <th>crim</th>\n",
              "      <th>zn</th>\n",
              "      <th>indus</th>\n",
              "      <th>chas</th>\n",
              "      <th>nox</th>\n",
              "      <th>rm</th>\n",
              "      <th>age</th>\n",
              "      <th>dis</th>\n",
              "      <th>rad</th>\n",
              "      <th>tax</th>\n",
              "      <th>ptratio</th>\n",
              "      <th>black</th>\n",
              "      <th>lstat</th>\n",
              "      <th>medv</th>\n",
              "    </tr>\n",
              "  </thead>\n",
              "  <tbody>\n",
              "    <tr>\n",
              "      <th>0</th>\n",
              "      <td>1</td>\n",
              "      <td>0.00632</td>\n",
              "      <td>18.0</td>\n",
              "      <td>2.31</td>\n",
              "      <td>0</td>\n",
              "      <td>0.538</td>\n",
              "      <td>6.575</td>\n",
              "      <td>65.2</td>\n",
              "      <td>4.0900</td>\n",
              "      <td>1</td>\n",
              "      <td>296</td>\n",
              "      <td>15.3</td>\n",
              "      <td>396.90</td>\n",
              "      <td>4.98</td>\n",
              "      <td>24.0</td>\n",
              "    </tr>\n",
              "    <tr>\n",
              "      <th>1</th>\n",
              "      <td>2</td>\n",
              "      <td>0.02731</td>\n",
              "      <td>0.0</td>\n",
              "      <td>7.07</td>\n",
              "      <td>0</td>\n",
              "      <td>0.469</td>\n",
              "      <td>6.421</td>\n",
              "      <td>78.9</td>\n",
              "      <td>4.9671</td>\n",
              "      <td>2</td>\n",
              "      <td>242</td>\n",
              "      <td>17.8</td>\n",
              "      <td>396.90</td>\n",
              "      <td>9.14</td>\n",
              "      <td>21.6</td>\n",
              "    </tr>\n",
              "    <tr>\n",
              "      <th>2</th>\n",
              "      <td>3</td>\n",
              "      <td>0.02729</td>\n",
              "      <td>0.0</td>\n",
              "      <td>7.07</td>\n",
              "      <td>0</td>\n",
              "      <td>0.469</td>\n",
              "      <td>7.185</td>\n",
              "      <td>61.1</td>\n",
              "      <td>4.9671</td>\n",
              "      <td>2</td>\n",
              "      <td>242</td>\n",
              "      <td>17.8</td>\n",
              "      <td>392.83</td>\n",
              "      <td>4.03</td>\n",
              "      <td>34.7</td>\n",
              "    </tr>\n",
              "    <tr>\n",
              "      <th>3</th>\n",
              "      <td>4</td>\n",
              "      <td>0.03237</td>\n",
              "      <td>0.0</td>\n",
              "      <td>2.18</td>\n",
              "      <td>0</td>\n",
              "      <td>0.458</td>\n",
              "      <td>6.998</td>\n",
              "      <td>45.8</td>\n",
              "      <td>6.0622</td>\n",
              "      <td>3</td>\n",
              "      <td>222</td>\n",
              "      <td>18.7</td>\n",
              "      <td>394.63</td>\n",
              "      <td>2.94</td>\n",
              "      <td>33.4</td>\n",
              "    </tr>\n",
              "    <tr>\n",
              "      <th>4</th>\n",
              "      <td>5</td>\n",
              "      <td>0.06905</td>\n",
              "      <td>0.0</td>\n",
              "      <td>2.18</td>\n",
              "      <td>0</td>\n",
              "      <td>0.458</td>\n",
              "      <td>7.147</td>\n",
              "      <td>54.2</td>\n",
              "      <td>6.0622</td>\n",
              "      <td>3</td>\n",
              "      <td>222</td>\n",
              "      <td>18.7</td>\n",
              "      <td>396.90</td>\n",
              "      <td>5.33</td>\n",
              "      <td>36.2</td>\n",
              "    </tr>\n",
              "  </tbody>\n",
              "</table>\n",
              "</div>\n",
              "      <button class=\"colab-df-convert\" onclick=\"convertToInteractive('df-b50de412-0af9-4bab-bd55-00728b5447bc')\"\n",
              "              title=\"Convert this dataframe to an interactive table.\"\n",
              "              style=\"display:none;\">\n",
              "        \n",
              "  <svg xmlns=\"http://www.w3.org/2000/svg\" height=\"24px\"viewBox=\"0 0 24 24\"\n",
              "       width=\"24px\">\n",
              "    <path d=\"M0 0h24v24H0V0z\" fill=\"none\"/>\n",
              "    <path d=\"M18.56 5.44l.94 2.06.94-2.06 2.06-.94-2.06-.94-.94-2.06-.94 2.06-2.06.94zm-11 1L8.5 8.5l.94-2.06 2.06-.94-2.06-.94L8.5 2.5l-.94 2.06-2.06.94zm10 10l.94 2.06.94-2.06 2.06-.94-2.06-.94-.94-2.06-.94 2.06-2.06.94z\"/><path d=\"M17.41 7.96l-1.37-1.37c-.4-.4-.92-.59-1.43-.59-.52 0-1.04.2-1.43.59L10.3 9.45l-7.72 7.72c-.78.78-.78 2.05 0 2.83L4 21.41c.39.39.9.59 1.41.59.51 0 1.02-.2 1.41-.59l7.78-7.78 2.81-2.81c.8-.78.8-2.07 0-2.86zM5.41 20L4 18.59l7.72-7.72 1.47 1.35L5.41 20z\"/>\n",
              "  </svg>\n",
              "      </button>\n",
              "      \n",
              "  <style>\n",
              "    .colab-df-container {\n",
              "      display:flex;\n",
              "      flex-wrap:wrap;\n",
              "      gap: 12px;\n",
              "    }\n",
              "\n",
              "    .colab-df-convert {\n",
              "      background-color: #E8F0FE;\n",
              "      border: none;\n",
              "      border-radius: 50%;\n",
              "      cursor: pointer;\n",
              "      display: none;\n",
              "      fill: #1967D2;\n",
              "      height: 32px;\n",
              "      padding: 0 0 0 0;\n",
              "      width: 32px;\n",
              "    }\n",
              "\n",
              "    .colab-df-convert:hover {\n",
              "      background-color: #E2EBFA;\n",
              "      box-shadow: 0px 1px 2px rgba(60, 64, 67, 0.3), 0px 1px 3px 1px rgba(60, 64, 67, 0.15);\n",
              "      fill: #174EA6;\n",
              "    }\n",
              "\n",
              "    [theme=dark] .colab-df-convert {\n",
              "      background-color: #3B4455;\n",
              "      fill: #D2E3FC;\n",
              "    }\n",
              "\n",
              "    [theme=dark] .colab-df-convert:hover {\n",
              "      background-color: #434B5C;\n",
              "      box-shadow: 0px 1px 3px 1px rgba(0, 0, 0, 0.15);\n",
              "      filter: drop-shadow(0px 1px 2px rgba(0, 0, 0, 0.3));\n",
              "      fill: #FFFFFF;\n",
              "    }\n",
              "  </style>\n",
              "\n",
              "      <script>\n",
              "        const buttonEl =\n",
              "          document.querySelector('#df-b50de412-0af9-4bab-bd55-00728b5447bc button.colab-df-convert');\n",
              "        buttonEl.style.display =\n",
              "          google.colab.kernel.accessAllowed ? 'block' : 'none';\n",
              "\n",
              "        async function convertToInteractive(key) {\n",
              "          const element = document.querySelector('#df-b50de412-0af9-4bab-bd55-00728b5447bc');\n",
              "          const dataTable =\n",
              "            await google.colab.kernel.invokeFunction('convertToInteractive',\n",
              "                                                     [key], {});\n",
              "          if (!dataTable) return;\n",
              "\n",
              "          const docLinkHtml = 'Like what you see? Visit the ' +\n",
              "            '<a target=\"_blank\" href=https://colab.research.google.com/notebooks/data_table.ipynb>data table notebook</a>'\n",
              "            + ' to learn more about interactive tables.';\n",
              "          element.innerHTML = '';\n",
              "          dataTable['output_type'] = 'display_data';\n",
              "          await google.colab.output.renderOutput(dataTable, element);\n",
              "          const docLink = document.createElement('div');\n",
              "          docLink.innerHTML = docLinkHtml;\n",
              "          element.appendChild(docLink);\n",
              "        }\n",
              "      </script>\n",
              "    </div>\n",
              "  </div>\n",
              "  "
            ]
          },
          "metadata": {},
          "execution_count": 18
        }
      ]
    },
    {
      "cell_type": "code",
      "source": [
        "#Preprocess the dataset\n",
        "\n",
        "from sklearn.preprocessing import StandardScaler\n",
        "\n",
        "X= df.drop('medv',axis = 1)\n",
        "y = df['medv']\n",
        "\n",
        "print(X[:5])"
      ],
      "metadata": {
        "colab": {
          "base_uri": "https://localhost:8080/"
        },
        "id": "UWEdZD95bTTE",
        "outputId": "112aa04e-e938-4a42-e355-9859a460ff38"
      },
      "execution_count": 19,
      "outputs": [
        {
          "output_type": "stream",
          "name": "stdout",
          "text": [
            "   Unnamed: 0     crim    zn  indus  chas    nox     rm   age     dis  rad  \\\n",
            "0           1  0.00632  18.0   2.31     0  0.538  6.575  65.2  4.0900    1   \n",
            "1           2  0.02731   0.0   7.07     0  0.469  6.421  78.9  4.9671    2   \n",
            "2           3  0.02729   0.0   7.07     0  0.469  7.185  61.1  4.9671    2   \n",
            "3           4  0.03237   0.0   2.18     0  0.458  6.998  45.8  6.0622    3   \n",
            "4           5  0.06905   0.0   2.18     0  0.458  7.147  54.2  6.0622    3   \n",
            "\n",
            "   tax  ptratio   black  lstat  \n",
            "0  296     15.3  396.90   4.98  \n",
            "1  242     17.8  396.90   9.14  \n",
            "2  242     17.8  392.83   4.03  \n",
            "3  222     18.7  394.63   2.94  \n",
            "4  222     18.7  396.90   5.33  \n"
          ]
        }
      ]
    },
    {
      "cell_type": "code",
      "source": [
        "#Split the dataset\n",
        " \n",
        "from sklearn.model_selection import train_test_split\n",
        "\n",
        "X_train, X_test, y_train, y_test= train_test_split(X,y,test_size=0.3, random_state = 42)\n",
        "print('training set shape:',X_train.shape,y_train.shape)\n",
        "print('testing set shape:',X_test.shape,y_test.shape)"
      ],
      "metadata": {
        "colab": {
          "base_uri": "https://localhost:8080/"
        },
        "id": "QIXOsYUlbWRE",
        "outputId": "8a90c75d-d7ee-43e5-a8bb-fa9f75713758"
      },
      "execution_count": 20,
      "outputs": [
        {
          "output_type": "stream",
          "name": "stdout",
          "text": [
            "training set shape: (354, 14) (354,)\n",
            "testing set shape: (152, 14) (152,)\n"
          ]
        }
      ]
    },
    {
      "cell_type": "code",
      "source": [
        "from keras.models import Sequential\n",
        "from keras.layers import Dense, Dropout\n"
      ],
      "metadata": {
        "id": "a-W73qWNbb2h"
      },
      "execution_count": 21,
      "outputs": []
    },
    {
      "cell_type": "code",
      "source": [
        "model = Sequential()\n",
        "model.add(Dense(64, input_dim=14, activation='relu'))\n",
        "model.add(Dropout(0.2))\n",
        "model.add(Dense(32, activation='relu'))\n",
        "model.add(Dense(1))\n",
        "\n",
        "print(model.summary())"
      ],
      "metadata": {
        "colab": {
          "base_uri": "https://localhost:8080/"
        },
        "id": "87tuhUN3bgQQ",
        "outputId": "76aca11c-c3e2-4414-9ed8-3f6e389e2a11"
      },
      "execution_count": 22,
      "outputs": [
        {
          "output_type": "stream",
          "name": "stdout",
          "text": [
            "Model: \"sequential_1\"\n",
            "_________________________________________________________________\n",
            " Layer (type)                Output Shape              Param #   \n",
            "=================================================================\n",
            " dense_3 (Dense)             (None, 64)                960       \n",
            "                                                                 \n",
            " dropout_1 (Dropout)         (None, 64)                0         \n",
            "                                                                 \n",
            " dense_4 (Dense)             (None, 32)                2080      \n",
            "                                                                 \n",
            " dense_5 (Dense)             (None, 1)                 33        \n",
            "                                                                 \n",
            "=================================================================\n",
            "Total params: 3,073\n",
            "Trainable params: 3,073\n",
            "Non-trainable params: 0\n",
            "_________________________________________________________________\n",
            "None\n"
          ]
        }
      ]
    },
    {
      "cell_type": "code",
      "source": [
        "model.compile(loss='mean_squared_error', optimizer='adam', metrics=['mean_absolute_error'])"
      ],
      "metadata": {
        "id": "4i_OkpUrb2sq"
      },
      "execution_count": 23,
      "outputs": []
    },
    {
      "cell_type": "code",
      "source": [
        "from keras.callbacks import EarlyStopping\n"
      ],
      "metadata": {
        "id": "QnVvrW_4b6T8"
      },
      "execution_count": 24,
      "outputs": []
    },
    {
      "cell_type": "code",
      "source": [
        "early_stopping = EarlyStopping(monitor='val_loss', patience=5)"
      ],
      "metadata": {
        "id": "qddCGnBUb8F6"
      },
      "execution_count": 25,
      "outputs": []
    },
    {
      "cell_type": "code",
      "source": [
        "history = model.fit(X_train, y_train, validation_split=0.2, epochs=100, batch_size=32,callbacks=[early_stopping])\n"
      ],
      "metadata": {
        "colab": {
          "base_uri": "https://localhost:8080/"
        },
        "id": "DuieF1dCb-Jv",
        "outputId": "e3c46fde-7227-4fdb-8e74-d0440ea0d422"
      },
      "execution_count": 26,
      "outputs": [
        {
          "output_type": "stream",
          "name": "stdout",
          "text": [
            "Epoch 1/100\n",
            "9/9 [==============================] - 2s 35ms/step - loss: 2765.2532 - mean_absolute_error: 42.1863 - val_loss: 666.1375 - val_mean_absolute_error: 22.8364\n",
            "Epoch 2/100\n",
            "9/9 [==============================] - 0s 11ms/step - loss: 1447.0673 - mean_absolute_error: 29.3742 - val_loss: 243.7011 - val_mean_absolute_error: 12.5150\n",
            "Epoch 3/100\n",
            "9/9 [==============================] - 0s 11ms/step - loss: 653.2294 - mean_absolute_error: 20.4790 - val_loss: 268.6371 - val_mean_absolute_error: 13.6604\n",
            "Epoch 4/100\n",
            "9/9 [==============================] - 0s 9ms/step - loss: 711.0845 - mean_absolute_error: 21.2720 - val_loss: 112.9300 - val_mean_absolute_error: 7.5110\n",
            "Epoch 5/100\n",
            "9/9 [==============================] - 0s 9ms/step - loss: 576.5187 - mean_absolute_error: 18.8834 - val_loss: 117.6012 - val_mean_absolute_error: 8.1220\n",
            "Epoch 6/100\n",
            "9/9 [==============================] - 0s 11ms/step - loss: 465.8225 - mean_absolute_error: 16.9038 - val_loss: 116.7615 - val_mean_absolute_error: 7.7030\n",
            "Epoch 7/100\n",
            "9/9 [==============================] - 0s 9ms/step - loss: 372.9712 - mean_absolute_error: 15.1556 - val_loss: 108.0059 - val_mean_absolute_error: 7.4239\n",
            "Epoch 8/100\n",
            "9/9 [==============================] - 0s 9ms/step - loss: 309.7340 - mean_absolute_error: 14.0143 - val_loss: 101.8049 - val_mean_absolute_error: 7.2513\n",
            "Epoch 9/100\n",
            "9/9 [==============================] - 0s 8ms/step - loss: 344.1712 - mean_absolute_error: 14.5398 - val_loss: 101.5257 - val_mean_absolute_error: 7.5132\n",
            "Epoch 10/100\n",
            "9/9 [==============================] - 0s 10ms/step - loss: 314.6245 - mean_absolute_error: 14.0210 - val_loss: 98.6879 - val_mean_absolute_error: 7.1312\n",
            "Epoch 11/100\n",
            "9/9 [==============================] - 0s 11ms/step - loss: 291.5535 - mean_absolute_error: 13.5858 - val_loss: 114.6365 - val_mean_absolute_error: 7.7538\n",
            "Epoch 12/100\n",
            "9/9 [==============================] - 0s 10ms/step - loss: 271.5305 - mean_absolute_error: 12.9239 - val_loss: 97.4939 - val_mean_absolute_error: 7.0846\n",
            "Epoch 13/100\n",
            "9/9 [==============================] - 0s 11ms/step - loss: 247.4893 - mean_absolute_error: 12.6469 - val_loss: 101.3871 - val_mean_absolute_error: 7.2456\n",
            "Epoch 14/100\n",
            "9/9 [==============================] - 0s 9ms/step - loss: 195.8000 - mean_absolute_error: 11.1323 - val_loss: 94.3914 - val_mean_absolute_error: 7.0139\n",
            "Epoch 15/100\n",
            "9/9 [==============================] - 0s 10ms/step - loss: 226.8856 - mean_absolute_error: 11.7651 - val_loss: 101.9721 - val_mean_absolute_error: 7.2593\n",
            "Epoch 16/100\n",
            "9/9 [==============================] - 0s 9ms/step - loss: 225.3500 - mean_absolute_error: 11.8276 - val_loss: 91.2752 - val_mean_absolute_error: 6.6916\n",
            "Epoch 17/100\n",
            "9/9 [==============================] - 0s 8ms/step - loss: 235.7049 - mean_absolute_error: 12.3944 - val_loss: 86.6608 - val_mean_absolute_error: 6.4792\n",
            "Epoch 18/100\n",
            "9/9 [==============================] - 0s 6ms/step - loss: 153.7444 - mean_absolute_error: 10.1277 - val_loss: 92.4550 - val_mean_absolute_error: 6.6470\n",
            "Epoch 19/100\n",
            "9/9 [==============================] - 0s 7ms/step - loss: 182.6223 - mean_absolute_error: 10.5114 - val_loss: 88.6221 - val_mean_absolute_error: 6.4335\n",
            "Epoch 20/100\n",
            "9/9 [==============================] - 0s 8ms/step - loss: 171.5849 - mean_absolute_error: 9.9847 - val_loss: 84.5354 - val_mean_absolute_error: 6.1997\n",
            "Epoch 21/100\n",
            "9/9 [==============================] - 0s 6ms/step - loss: 170.5729 - mean_absolute_error: 10.1480 - val_loss: 81.8398 - val_mean_absolute_error: 6.0671\n",
            "Epoch 22/100\n",
            "9/9 [==============================] - 0s 6ms/step - loss: 163.1762 - mean_absolute_error: 10.2817 - val_loss: 89.6392 - val_mean_absolute_error: 6.4186\n",
            "Epoch 23/100\n",
            "9/9 [==============================] - 0s 8ms/step - loss: 135.8668 - mean_absolute_error: 9.2456 - val_loss: 78.1913 - val_mean_absolute_error: 5.9410\n",
            "Epoch 24/100\n",
            "9/9 [==============================] - 0s 8ms/step - loss: 156.5696 - mean_absolute_error: 9.8500 - val_loss: 75.7857 - val_mean_absolute_error: 5.9083\n",
            "Epoch 25/100\n",
            "9/9 [==============================] - 0s 8ms/step - loss: 144.0332 - mean_absolute_error: 9.1645 - val_loss: 93.9310 - val_mean_absolute_error: 6.6759\n",
            "Epoch 26/100\n",
            "9/9 [==============================] - 0s 8ms/step - loss: 142.2634 - mean_absolute_error: 8.9426 - val_loss: 73.9368 - val_mean_absolute_error: 6.0284\n",
            "Epoch 27/100\n",
            "9/9 [==============================] - 0s 8ms/step - loss: 164.3755 - mean_absolute_error: 10.1417 - val_loss: 84.7836 - val_mean_absolute_error: 6.0871\n",
            "Epoch 28/100\n",
            "9/9 [==============================] - 0s 8ms/step - loss: 125.8430 - mean_absolute_error: 8.5495 - val_loss: 80.2164 - val_mean_absolute_error: 5.8621\n",
            "Epoch 29/100\n",
            "9/9 [==============================] - 0s 6ms/step - loss: 144.0277 - mean_absolute_error: 9.3380 - val_loss: 72.8244 - val_mean_absolute_error: 5.6153\n",
            "Epoch 30/100\n",
            "9/9 [==============================] - 0s 6ms/step - loss: 159.8167 - mean_absolute_error: 9.4528 - val_loss: 72.6959 - val_mean_absolute_error: 5.5774\n",
            "Epoch 31/100\n",
            "9/9 [==============================] - 0s 6ms/step - loss: 125.2975 - mean_absolute_error: 8.7238 - val_loss: 78.5118 - val_mean_absolute_error: 5.7184\n",
            "Epoch 32/100\n",
            "9/9 [==============================] - 0s 8ms/step - loss: 128.9737 - mean_absolute_error: 8.7784 - val_loss: 71.1280 - val_mean_absolute_error: 5.3697\n",
            "Epoch 33/100\n",
            "9/9 [==============================] - 0s 6ms/step - loss: 117.1287 - mean_absolute_error: 8.3150 - val_loss: 70.8697 - val_mean_absolute_error: 5.3472\n",
            "Epoch 34/100\n",
            "9/9 [==============================] - 0s 9ms/step - loss: 131.9129 - mean_absolute_error: 8.3984 - val_loss: 70.1593 - val_mean_absolute_error: 5.3084\n",
            "Epoch 35/100\n",
            "9/9 [==============================] - 0s 7ms/step - loss: 116.9936 - mean_absolute_error: 8.2031 - val_loss: 68.6110 - val_mean_absolute_error: 5.2613\n",
            "Epoch 36/100\n",
            "9/9 [==============================] - 0s 26ms/step - loss: 111.9793 - mean_absolute_error: 8.1084 - val_loss: 67.4705 - val_mean_absolute_error: 5.1627\n",
            "Epoch 37/100\n",
            "9/9 [==============================] - 0s 29ms/step - loss: 110.9262 - mean_absolute_error: 8.3260 - val_loss: 64.3011 - val_mean_absolute_error: 5.0390\n",
            "Epoch 38/100\n",
            "9/9 [==============================] - 0s 14ms/step - loss: 122.8034 - mean_absolute_error: 8.3775 - val_loss: 66.0409 - val_mean_absolute_error: 5.0137\n",
            "Epoch 39/100\n",
            "9/9 [==============================] - 0s 11ms/step - loss: 119.7294 - mean_absolute_error: 8.2503 - val_loss: 62.4463 - val_mean_absolute_error: 5.0463\n",
            "Epoch 40/100\n",
            "9/9 [==============================] - 0s 9ms/step - loss: 106.3457 - mean_absolute_error: 7.8014 - val_loss: 64.9069 - val_mean_absolute_error: 4.9173\n",
            "Epoch 41/100\n",
            "9/9 [==============================] - 0s 8ms/step - loss: 107.9505 - mean_absolute_error: 7.8852 - val_loss: 65.9245 - val_mean_absolute_error: 4.9702\n",
            "Epoch 42/100\n",
            "9/9 [==============================] - 0s 10ms/step - loss: 102.4680 - mean_absolute_error: 7.6736 - val_loss: 62.6671 - val_mean_absolute_error: 4.9981\n",
            "Epoch 43/100\n",
            "9/9 [==============================] - 0s 6ms/step - loss: 105.5460 - mean_absolute_error: 7.8514 - val_loss: 66.0642 - val_mean_absolute_error: 5.0185\n",
            "Epoch 44/100\n",
            "9/9 [==============================] - 0s 7ms/step - loss: 112.0680 - mean_absolute_error: 8.2183 - val_loss: 66.5533 - val_mean_absolute_error: 5.0163\n"
          ]
        }
      ]
    },
    {
      "cell_type": "code",
      "source": [
        "import matplotlib.pyplot as plt \n",
        "plt.plot(history.history['loss'])\n",
        "plt.plot(history.history['val_loss']) \n",
        "plt.title('Model Loss')\n",
        "plt.xlabel('Epochs')\n",
        "plt.ylabel('Loss') \n",
        "plt.legend(['Training','Validation']) \n",
        "plt.show()"
      ],
      "metadata": {
        "colab": {
          "base_uri": "https://localhost:8080/",
          "height": 472
        },
        "id": "U84heMwncAgF",
        "outputId": "c4ee199d-b4ec-4899-ecfe-49674aeb211e"
      },
      "execution_count": 27,
      "outputs": [
        {
          "output_type": "display_data",
          "data": {
            "text/plain": [
              "<Figure size 640x480 with 1 Axes>"
            ],
            "image/png": "[encoded data removed]"
          },
          "metadata": {}
        }
      ]
    },
    {
      "cell_type": "code",
      "source": [
        "loss, mae = model.evaluate(X_test, y_test)\n",
        "print('Mean Absolute Error:', mae)\n"
      ],
      "metadata": {
        "colab": {
          "base_uri": "https://localhost:8080/"
        },
        "id": "P9tRt4j-cjrS",
        "outputId": "79eb99c2-b297-4312-dcb4-1e39fdf35037"
      },
      "execution_count": 28,
      "outputs": [
        {
          "output_type": "stream",
          "name": "stdout",
          "text": [
            "5/5 [==============================] - 0s 3ms/step - loss: 53.6043 - mean_absolute_error: 4.6697\n",
            "Mean Absolute Error: 4.669704437255859\n"
          ]
        }
      ]
    }
  ]
}